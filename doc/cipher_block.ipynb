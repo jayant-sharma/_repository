{
 "metadata": {
  "name": "",
  "signature": "sha256:07ef6bb34cf3375a241123a18fd6467e7a71fcaf90c3f14e4e1ec66c39f981c0"
 },
 "nbformat": 3,
 "nbformat_minor": 0,
 "worksheets": [
  {
   "cells": [
    {
     "cell_type": "code",
     "collapsed": false,
     "input": [
      "!mkdir -p ../testbench/cipher_block"
     ],
     "language": "python",
     "metadata": {},
     "outputs": [],
     "prompt_number": 1
    },
    {
     "cell_type": "code",
     "collapsed": false,
     "input": [
      "%%writefile ../testbench/cipher_block/test_cipher_block.py\n",
      "\n",
      "import random\n",
      "import binascii\n",
      "import cocotb\n",
      "from cocotb.clock import Clock\n",
      "from cocotb.triggers import Timer, RisingEdge, ReadOnly\n",
      "from cocotb.result import TestFailure, ReturnValue\n",
      "from cocotb.binary import BinaryValue\n",
      "import array\n",
      "import numpy as np\n",
      "import time\n",
      "np.set_printoptions(formatter={'int':hex})\n",
      "\n",
      "import binascii\n",
      "import numpy as np\n",
      "from Crypto.Cipher import AES\n",
      "\n",
      "def aes_check(key, data, cipherdata):\n",
      "    key1 = np.append(key[0:16][::-1], key[16:32][::-1])\n",
      "    key = key1.tostring()\n",
      "    cipher = AES.AESCipher(key, AES.MODE_ECB)\n",
      "    for i in range(len(data)/16):\n",
      "        d = data[i*16:(i+1)*16].tostring()[::-1]\n",
      "        c = cipherdata[i*16:(i+1)*16][::-1]\n",
      "        ciphertext = cipher.encrypt(d)\n",
      "        ciphertext = np.fromstring(ciphertext, dtype=np.uint8)\n",
      "        print ciphertext, c\n",
      "        if (ciphertext!=c).all():\n",
      "            print \"match failed\"\n",
      "            return -1\n",
      "    print \"matched\"\n",
      "    return 0\n",
      "\n",
      "def printblk(memblk):\n",
      "    for i in range(len(memblk)/16):\n",
      "        print binascii.hexlify(bytearray(memblk[i*16: (i+1)*16].tostring()[::-1]))           \n",
      "    print '______________________________'\n",
      "\n",
      "class Enum(tuple): __getattr__ = tuple.index    \n",
      "Control = Enum(['IDLE', \n",
      "                 'GEN_KEY',\n",
      "                 'START_ENCRYPT'\n",
      "                 ])\n",
      "\n",
      "Status  = Enum(['IDLE', \n",
      "                 'BUSY_GEN_KEY',\n",
      "                 'ENC_READY',\n",
      "                 'ENC_READY_BUSY_GEN_KEY',\n",
      "                 '4',\n",
      "                 '5',\n",
      "                 '6',\n",
      "                 '7',\n",
      "                 'ENCRYPT_DONE'\n",
      "                 ])\n",
      "\n",
      "MemMap = {'KEY_0_PTR': 0x00,\n",
      "          'KEY_1_PTR': 0x02,\n",
      "          'KEY_2_PTR': 0x04,\n",
      "          'KEY_3_PTR': 0x06,\n",
      "          'KEY_4_PTR': 0x08,\n",
      "          'DATA_0_PTR': 0x10,\n",
      "          'DATA_1_PTR': 0x18,\n",
      "          'DATA_2_PTR': 0x20,\n",
      "          'DATA_3_PTR': 0x28,\n",
      "          'DATA_4_PTR': 0x30,\n",
      "          'DATA_OUT_0_PTR': 0x50,\n",
      "          'DATA_OUT_1_PTR': 0x58,\n",
      "          'DATA_OUT_2_PTR': 0x60,\n",
      "          'DATA_OUT_3_PTR': 0x68,\n",
      "          'DATA_OUT_4_PTR': 0x70,}\n",
      "\n",
      "class keys:\n",
      "    def __init__(self):\n",
      "        self.token = np.fromstring(np.random.bytes(5), dtype=np.uint8)\n",
      "        self.keys_address = [0,0+16,0+16*2]\n",
      "        pass\n",
      "\n",
      "class key:\n",
      "    def __init__(self, nk, key=[]):\n",
      "        self.nk = nk;\n",
      "        self.key = key;\n",
      "    \n",
      "    def setkey (self, key):\n",
      "        self.key = key;\n",
      "\n",
      "@cocotb.coroutine\n",
      "def reset(dut):\n",
      "    dut.rsT    = 0\n",
      "    dut.a_wR    = 0\n",
      "    yield RisingEdge(dut.clK)\n",
      "    dut.rsT    = 1\n",
      "    yield RisingEdge(dut.clK) \n",
      "    dut.rsT    = 0\n",
      "    yield RisingEdge(dut.clK) \n",
      "    \n",
      "@cocotb.coroutine\n",
      "def command(dut, cmd):\n",
      "    yield RisingEdge(dut.clK) \n",
      "    dut.controL    = cmd                 # Synchronise to the read clock\n",
      "    yield RisingEdge(dut.clK)\n",
      "    dut.controL    = Control.IDLE \n",
      "\n",
      "@cocotb.coroutine\n",
      "def status(dut):\n",
      "    yield RisingEdge(dut.clK)               # Wait for 1 clock cycle\n",
      "    yield ReadOnly()                        # Wait until all events have executed for this timestep    \n",
      "    raise ReturnValue(int(dut.statuS.value))\n",
      "    \n",
      "@cocotb.coroutine\n",
      "def write_mem(dut, value, address):\n",
      "    dut.a_addR    = address                 # Synchronise to the read clock\n",
      "    data = BinaryValue()\n",
      "    data.assign(value)\n",
      "    dut.a_data_iN.value = data\n",
      "    dut.a_wR    = 1\n",
      "    yield RisingEdge(dut.clK)\n",
      "    dut.a_wR    = 0                         # Disable write\n",
      "\n",
      "@cocotb.coroutine\n",
      "def read_mem(dut, address):\n",
      "    \"\"\"This coroutine performs a read of the FIFO and returns a value\"\"\"\n",
      "    dut.a_wR    = 0\n",
      "    dut.a_addR    = address\n",
      "    yield RisingEdge(dut.clK)               # Wait for 1 clock cycle\n",
      "    yield ReadOnly()                        # Wait until all events have executed for this timestep    \n",
      "    raise ReturnValue(dut.a_data_ouT.value)\n",
      "\n",
      "@cocotb.test()\n",
      "def test_cipher_block(dut):    \n",
      "    \n",
      "    width = dut.DATA.value.integer\n",
      "    words = dut.WORD.value.integer\n",
      "    depth = 2**dut.ADDR.value.integer\n",
      "    dut.log.info(\"Found %d entry RAM by %d bits wide\" % (depth, width))\n",
      "\n",
      "    dut.roundS    = 14 \n",
      "    dut.nK        = 8  \n",
      "    # Set up independent read/write clocks\n",
      "    cocotb.fork(Clock(dut.clK, 10).start())\n",
      "    \n",
      "    yield reset(dut)\n",
      "    \n",
      "    #data = np.fromstring(np.random.bytes(16), dtype=np.uint8)\n",
      "    #data = np.array([0x2b, 0x28, 0xab, 0x09, \n",
      "    #                 0x7e, 0xae, 0xf7, 0xcf, \n",
      "    #                 0x15, 0xd2, 0x15, 0x4f, \n",
      "    #                 0x16, 0xa6, 0x88, 0x3c], dtype=np.uint8)\n",
      "    key = np.array([0x60, 0x3d, 0xeb, 0x10, \n",
      "                     0x15, 0xca, 0x71, 0xbe, \n",
      "                     0x2b, 0x73, 0xae, 0xf0, \n",
      "                     0x85, 0x7d, 0x77, 0x81, \n",
      "                     0x1f, 0x35, 0x2c, 0x07, \n",
      "                     0x3b, 0x61, 0x08, 0xd7, \n",
      "                     0x2d, 0x98, 0x10, 0xa3, \n",
      "                     0x09, 0x14, 0xdf, 0xf4], dtype=np.uint8)\n",
      "    data = np.array([0x00, 0x11, 0x22, 0x33,\n",
      "                     0x44, 0x55, 0x66, 0x77,\n",
      "                     0x88, 0x99, 0xaa, 0xbb,\n",
      "                     0xcc, 0xdd, 0xee, 0xff], dtype=np.uint8)\n",
      "    \n",
      "    key = np.fromstring(np.random.bytes(32), dtype=np.uint8)\n",
      "    \n",
      "    yield write_mem(dut, key[0:16].tostring()[::-1], MemMap[\"KEY_0_PTR\"])\n",
      "    yield write_mem(dut, key[16:32].tostring()[::-1], MemMap[\"KEY_0_PTR\"]+1)\n",
      "    data = np.fromstring(np.random.bytes(16), dtype=np.uint8)\n",
      "    yield write_mem(dut, data[0:16].tostring()[::-1], MemMap[\"DATA_0_PTR\"])\n",
      "    data = np.fromstring(np.random.bytes(16), dtype=np.uint8)\n",
      "    yield write_mem(dut, data[0:16].tostring()[::-1], MemMap[\"DATA_0_PTR\"]+1)\n",
      "    data = np.fromstring(np.random.bytes(16), dtype=np.uint8)\n",
      "    yield write_mem(dut, data[0:16].tostring()[::-1], MemMap[\"DATA_0_PTR\"]+2)\n",
      "    data = np.fromstring(np.random.bytes(16), dtype=np.uint8)\n",
      "    yield write_mem(dut, data[0:16].tostring()[::-1], MemMap[\"DATA_0_PTR\"]+3)\n",
      "    data = np.fromstring(np.random.bytes(16), dtype=np.uint8)\n",
      "    yield write_mem(dut, data[0:16].tostring()[::-1], MemMap[\"DATA_0_PTR\"]+4)\n",
      "    data = np.fromstring(np.random.bytes(16), dtype=np.uint8)\n",
      "    yield write_mem(dut, data[0:16].tostring()[::-1], MemMap[\"DATA_0_PTR\"]+5)\n",
      "    data = np.fromstring(np.random.bytes(16), dtype=np.uint8)\n",
      "    yield write_mem(dut, data[0:16].tostring()[::-1], MemMap[\"DATA_0_PTR\"]+6)\n",
      "    data = np.fromstring(np.random.bytes(16), dtype=np.uint8)\n",
      "    yield write_mem(dut, data[0:16].tostring()[::-1], MemMap[\"DATA_0_PTR\"]+7)\n",
      "    key = np.array([0x00, 0x01, 0x02, 0x03,\n",
      "                     0x04, 0x05, 0x06, 0x07,\n",
      "                     0x08, 0x09, 0x0a, 0x0b,\n",
      "                     0x0c, 0x0d, 0x0e, 0x0f,\n",
      "                     0x10, 0x11, 0x12, 0x13,\n",
      "                     0x14, 0x15, 0x16, 0x17,\n",
      "                     0x18, 0x19, 0x1a, 0x1b,\n",
      "                     0x1c, 0x1d, 0x1e, 0x1f], dtype=np.uint8)\n",
      "    data = np.array([0x00, 0x11, 0x22, 0x33,\n",
      "                     0x44, 0x55, 0x66, 0x77,\n",
      "                     0x88, 0x99, 0xaa, 0xbb,\n",
      "                     0xcc, 0xdd, 0xee, 0xff], dtype=np.uint8)\n",
      "\n",
      "    #key = np.fromstring(np.random.bytes(32), dtype=np.uint8)\n",
      "    yield write_mem(dut, key[0:16].tostring()[::-1], MemMap[\"KEY_1_PTR\"])\n",
      "    yield write_mem(dut, key[16:32].tostring()[::-1], MemMap[\"KEY_1_PTR\"]+1)\n",
      "    #data = np.fromstring(np.random.bytes(16), dtype=np.uint8)\n",
      "    yield write_mem(dut, data[0:16].tostring()[::-1], MemMap[\"DATA_1_PTR\"])\n",
      "    #data = np.fromstring(np.random.bytes(16), dtype=np.uint8)\n",
      "    yield write_mem(dut, data[0:16].tostring()[::-1], MemMap[\"DATA_1_PTR\"]+1)\n",
      "    #data = np.fromstring(np.random.bytes(16), dtype=np.uint8)\n",
      "    yield write_mem(dut, data[0:16].tostring()[::-1], MemMap[\"DATA_1_PTR\"]+2)\n",
      "    #data = np.fromstring(np.random.bytes(16), dtype=np.uint8)\n",
      "    yield write_mem(dut, data[0:16].tostring()[::-1], MemMap[\"DATA_1_PTR\"]+3)\n",
      "    #data = np.fromstring(np.random.bytes(16), dtype=np.uint8)\n",
      "    yield write_mem(dut, data[0:16].tostring()[::-1], MemMap[\"DATA_1_PTR\"]+4)\n",
      "    #data = np.fromstring(np.random.bytes(16), dtype=np.uint8)\n",
      "    yield write_mem(dut, data[0:16].tostring()[::-1], MemMap[\"DATA_1_PTR\"]+5)\n",
      "    #data = np.fromstring(np.random.bytes(16), dtype=np.uint8)\n",
      "    yield write_mem(dut, data[0:16].tostring()[::-1], MemMap[\"DATA_1_PTR\"]+6)\n",
      "    #data = np.fromstring(np.random.bytes(16), dtype=np.uint8)\n",
      "    yield write_mem(dut, data[0:16].tostring()[::-1], MemMap[\"DATA_1_PTR\"]+7)\n",
      "    key = np.array([0x00, 0x3d, 0xeb, 0x10, \n",
      "                     0x00, 0xca, 0x71, 0xbe, \n",
      "                     0x00, 0x73, 0xae, 0xf0, \n",
      "                     0x00, 0x7d, 0x77, 0x81, \n",
      "                     0x00, 0x35, 0x2c, 0x07, \n",
      "                     0x00, 0x61, 0x08, 0xd7, \n",
      "                     0x00, 0x98, 0x10, 0xa3, \n",
      "                     0x00, 0x14, 0xdf, 0xf4], dtype=np.uint8)\n",
      "    data = np.array([0x00, 0x11, 0x22, 0x33,\n",
      "                     0x44, 0x55, 0x66, 0x77,\n",
      "                     0x88, 0x99, 0xaa, 0xbb,\n",
      "                     0xcc, 0xdd, 0xee, 0xff], dtype=np.uint8)\n",
      "\n",
      "    key = np.fromstring(np.random.bytes(32), dtype=np.uint8)\n",
      "    yield write_mem(dut, key[0:16].tostring()[::-1], MemMap[\"KEY_2_PTR\"])\n",
      "    yield write_mem(dut, key[16:32].tostring()[::-1], MemMap[\"KEY_2_PTR\"]+1)\n",
      "    data = np.fromstring(np.random.bytes(16), dtype=np.uint8)\n",
      "    yield write_mem(dut, data[0:16].tostring()[::-1], MemMap[\"DATA_2_PTR\"])\n",
      "    data = np.fromstring(np.random.bytes(16), dtype=np.uint8)\n",
      "    yield write_mem(dut, data[0:16].tostring()[::-1], MemMap[\"DATA_2_PTR\"]+1)\n",
      "    data = np.fromstring(np.random.bytes(16), dtype=np.uint8)\n",
      "    yield write_mem(dut, data[0:16].tostring()[::-1], MemMap[\"DATA_2_PTR\"]+2)\n",
      "    data = np.fromstring(np.random.bytes(16), dtype=np.uint8)\n",
      "    yield write_mem(dut, data[0:16].tostring()[::-1], MemMap[\"DATA_2_PTR\"]+3)\n",
      "    data = np.fromstring(np.random.bytes(16), dtype=np.uint8)\n",
      "    yield write_mem(dut, data[0:16].tostring()[::-1], MemMap[\"DATA_2_PTR\"]+4)\n",
      "    data = np.fromstring(np.random.bytes(16), dtype=np.uint8)\n",
      "    yield write_mem(dut, data[0:16].tostring()[::-1], MemMap[\"DATA_2_PTR\"]+5)\n",
      "    data = np.fromstring(np.random.bytes(16), dtype=np.uint8)\n",
      "    yield write_mem(dut, data[0:16].tostring()[::-1], MemMap[\"DATA_2_PTR\"]+6)\n",
      "    data = np.fromstring(np.random.bytes(16), dtype=np.uint8)\n",
      "    yield write_mem(dut, data[0:16].tostring()[::-1], MemMap[\"DATA_2_PTR\"]+7)\n",
      "    key = np.array([0x02, 0x3d, 0xeb, 0x10, \n",
      "                     0x02, 0xca, 0x71, 0xbe, \n",
      "                     0x02, 0x73, 0xae, 0xf0, \n",
      "                     0x02, 0x7d, 0x77, 0x81, \n",
      "                     0x02, 0x35, 0x2c, 0x07, \n",
      "                     0x02, 0x61, 0x08, 0xd7, \n",
      "                     0x02, 0x98, 0x10, 0xa3, \n",
      "                     0x02, 0x14, 0xdf, 0xf4], dtype=np.uint8)\n",
      "    data = np.array([0x00, 0x11, 0x22, 0x33,\n",
      "                     0x44, 0x55, 0x66, 0x77,\n",
      "                     0x88, 0x99, 0xaa, 0xbb,\n",
      "                     0xcc, 0xdd, 0xee, 0xff], dtype=np.uint8)\n",
      "\n",
      "    key = np.fromstring(np.random.bytes(32), dtype=np.uint8)\n",
      "    yield write_mem(dut, key[0:16].tostring()[::-1], MemMap[\"KEY_3_PTR\"])\n",
      "    yield write_mem(dut, key[16:32].tostring()[::-1], MemMap[\"KEY_3_PTR\"]+1)\n",
      "    data = np.fromstring(np.random.bytes(16), dtype=np.uint8)\n",
      "    yield write_mem(dut, data[0:16].tostring()[::-1], MemMap[\"DATA_3_PTR\"])\n",
      "    data = np.fromstring(np.random.bytes(16), dtype=np.uint8)\n",
      "    yield write_mem(dut, data[0:16].tostring()[::-1], MemMap[\"DATA_3_PTR\"]+1)\n",
      "    data = np.fromstring(np.random.bytes(16), dtype=np.uint8)\n",
      "    yield write_mem(dut, data[0:16].tostring()[::-1], MemMap[\"DATA_3_PTR\"]+2)\n",
      "    data = np.fromstring(np.random.bytes(16), dtype=np.uint8)\n",
      "    yield write_mem(dut, data[0:16].tostring()[::-1], MemMap[\"DATA_3_PTR\"]+3)\n",
      "    data = np.fromstring(np.random.bytes(16), dtype=np.uint8)\n",
      "    yield write_mem(dut, data[0:16].tostring()[::-1], MemMap[\"DATA_3_PTR\"]+4)\n",
      "    data = np.fromstring(np.random.bytes(16), dtype=np.uint8)\n",
      "    yield write_mem(dut, data[0:16].tostring()[::-1], MemMap[\"DATA_3_PTR\"]+5)\n",
      "    data = np.fromstring(np.random.bytes(16), dtype=np.uint8)\n",
      "    yield write_mem(dut, data[0:16].tostring()[::-1], MemMap[\"DATA_3_PTR\"]+6)\n",
      "    data = np.fromstring(np.random.bytes(16), dtype=np.uint8)\n",
      "    yield write_mem(dut, data[0:16].tostring()[::-1], MemMap[\"DATA_3_PTR\"]+7)\n",
      "    key = np.array([ 0x03, 0x3d, 0xeb, 0x10, \n",
      "                     0x03, 0xca, 0x71, 0xbe, \n",
      "                     0x03, 0x73, 0xae, 0xf0, \n",
      "                     0x03, 0x7d, 0x77, 0x81, \n",
      "                     0x03, 0x35, 0x2c, 0x07, \n",
      "                     0x03, 0x61, 0x08, 0xd7, \n",
      "                     0x03, 0x98, 0x10, 0xa3, \n",
      "                     0x03, 0x14, 0xdf, 0xf4], dtype=np.uint8)\n",
      "    data = np.array([0x00, 0x11, 0x22, 0x33,\n",
      "                     0x44, 0x55, 0x66, 0x77,\n",
      "                     0x88, 0x99, 0xaa, 0xbb,\n",
      "                     0xcc, 0xdd, 0xee, 0xff], dtype=np.uint8)\n",
      "\n",
      "    key = np.fromstring(np.random.bytes(32), dtype=np.uint8)\n",
      "    yield write_mem(dut, key[0:16].tostring()[::-1], MemMap[\"KEY_4_PTR\"])\n",
      "    yield write_mem(dut, key[16:32].tostring()[::-1], MemMap[\"KEY_4_PTR\"]+1)\n",
      "    data = np.fromstring(np.random.bytes(16), dtype=np.uint8)\n",
      "    yield write_mem(dut, data[0:16].tostring()[::-1], MemMap[\"DATA_4_PTR\"])\n",
      "    data = np.fromstring(np.random.bytes(16), dtype=np.uint8)\n",
      "    yield write_mem(dut, data[0:16].tostring()[::-1], MemMap[\"DATA_4_PTR\"]+1)\n",
      "    data = np.fromstring(np.random.bytes(16), dtype=np.uint8)\n",
      "    yield write_mem(dut, data[0:16].tostring()[::-1], MemMap[\"DATA_4_PTR\"]+2)\n",
      "    data = np.fromstring(np.random.bytes(16), dtype=np.uint8)\n",
      "    yield write_mem(dut, data[0:16].tostring()[::-1], MemMap[\"DATA_4_PTR\"]+3)\n",
      "    data = np.fromstring(np.random.bytes(16), dtype=np.uint8)\n",
      "    yield write_mem(dut, data[0:16].tostring()[::-1], MemMap[\"DATA_4_PTR\"]+4)\n",
      "    data = np.fromstring(np.random.bytes(16), dtype=np.uint8)\n",
      "    yield write_mem(dut, data[0:16].tostring()[::-1], MemMap[\"DATA_4_PTR\"]+5)\n",
      "    data = np.fromstring(np.random.bytes(16), dtype=np.uint8)\n",
      "    yield write_mem(dut, data[0:16].tostring()[::-1], MemMap[\"DATA_4_PTR\"]+6)\n",
      "    data = np.fromstring(np.random.bytes(16), dtype=np.uint8)\n",
      "    yield write_mem(dut, data[0:16].tostring()[::-1], MemMap[\"DATA_4_PTR\"]+7)\n",
      "\n",
      "    yield command(dut, Control.GEN_KEY)    \n",
      "    for i in range(16000): \n",
      "        st = yield status(dut)\n",
      "        if (st == Status.ENC_READY_BUSY_GEN_KEY):\n",
      "            print i\n",
      "            break        \n",
      "    print Status[st]\n",
      "    yield command(dut, Control.START_ENCRYPT)  \n",
      "    \n",
      "    \n",
      "    for i in range(16000): \n",
      "        st = yield status(dut)\n",
      "        if (st == Status.IDLE): #ENCRYPT_DONE):\n",
      "            print i\n",
      "            break        \n",
      "    #print Status[st] \n",
      "    dut.log.info(\"%s\" % (Status[st]))\n",
      "    \n",
      "    mem = np.array([], dtype=np.uint8)\n",
      "    addr = MemMap[\"KEY_0_PTR\"]\n",
      "    for i in range(2**7): \n",
      "        memdata = yield read_mem(dut, addr)\n",
      "        addr = addr + 1\n",
      "        mem = np.append(mem, np.fromstring(memdata.buff, dtype=np.uint8))        \n",
      "        #mem.append(binascii.hexlify(bytearray(memdata.buff[::-1])).decode('utf-8'))\n",
      "        \n",
      "    \n",
      "    print '##############################'\n",
      "    print 'keys'\n",
      "    print '##############################'\n",
      "    key0 = mem[0*16:2*16] \n",
      "    printblk(key0)\n",
      "    key1 = mem[2*16:4*16] \n",
      "    printblk(key1)\n",
      "    key2 = mem[4*16:6*16] \n",
      "    printblk(key2)\n",
      "    key3 = mem[6*16:8*16] \n",
      "    printblk(key3)\n",
      "    key4 = mem[8*16:10*16] \n",
      "    printblk(key4)\n",
      "    \n",
      "    print '##############################'\n",
      "    print 'data in'\n",
      "    print '##############################'\n",
      "    \n",
      "    datain0 = mem[MemMap[\"DATA_0_PTR\"]*16:(MemMap[\"DATA_0_PTR\"]+8)*16] \n",
      "    printblk(datain0)\n",
      "    datain1 = mem[MemMap[\"DATA_1_PTR\"]*16:(MemMap[\"DATA_1_PTR\"]+8)*16]\n",
      "    printblk(datain1)\n",
      "    datain2 = mem[MemMap[\"DATA_2_PTR\"]*16:(MemMap[\"DATA_2_PTR\"]+8)*16]\n",
      "    printblk(datain2)\n",
      "    datain3 = mem[MemMap[\"DATA_3_PTR\"]*16:(MemMap[\"DATA_3_PTR\"]+8)*16]\n",
      "    printblk(datain3)\n",
      "    datain4 = mem[MemMap[\"DATA_4_PTR\"]*16:(MemMap[\"DATA_4_PTR\"]+8)*16]\n",
      "    printblk(datain4) \n",
      "    \n",
      "    print '##############################'\n",
      "    print 'data out'\n",
      "    print '##############################'\n",
      "    \n",
      "    dataout0 = mem[MemMap[\"DATA_OUT_0_PTR\"]*16:(MemMap[\"DATA_OUT_0_PTR\"]+8)*16] \n",
      "    printblk(dataout0)\n",
      "    aes_check(key0, datain0, dataout0)\n",
      "    \n",
      "    dataout1 = mem[MemMap[\"DATA_OUT_1_PTR\"]*16:(MemMap[\"DATA_OUT_1_PTR\"]+8)*16]\n",
      "    printblk(dataout1)\n",
      "    aes_check(key1, datain1, dataout1)\n",
      "    \n",
      "    dataout2 = mem[MemMap[\"DATA_OUT_2_PTR\"]*16:(MemMap[\"DATA_OUT_2_PTR\"]+8)*16]\n",
      "    printblk(dataout2)\n",
      "    aes_check(key2, datain2, dataout2)\n",
      "    \n",
      "    dataout3 = mem[MemMap[\"DATA_OUT_3_PTR\"]*16:(MemMap[\"DATA_OUT_3_PTR\"]+8)*16]\n",
      "    printblk(dataout3)\n",
      "    aes_check(key3, datain3, dataout3)\n",
      "    \n",
      "    dataout4 = mem[MemMap[\"DATA_OUT_4_PTR\"]*16:(MemMap[\"DATA_OUT_4_PTR\"]+8)*16]\n",
      "    printblk(dataout4) \n",
      "    aes_check(key4, datain4, dataout4)\n",
      "    #    print i\n",
      "    #    if not (k % 8):\n",
      "    #        print '###########################################'\n",
      "    \n",
      "    dut.log.info(\"RAM contents OK\")"
     ],
     "language": "python",
     "metadata": {},
     "outputs": [
      {
       "output_type": "stream",
       "stream": "stdout",
       "text": [
        "Overwriting ../testbench/cipher_block/test_cipher_block.py\n"
       ]
      }
     ],
     "prompt_number": 1
    },
    {
     "cell_type": "code",
     "collapsed": false,
     "input": [
      "%%writefile ../testbench/cipher_block/Makefile\n",
      "TOPLEVEL = cipher_block\n",
      "\n",
      "PWD = $(shell pwd)\n",
      "COCOTB = $(PWD)/../../../cocotb\n",
      "SRC = $(PWD)/../../hdl\n",
      "\n",
      "VERILOG_SOURCES = $(SRC)/cipher_block.v\n",
      "MODULE=test_cipher_block\n",
      "EXTRA_ARGS=-I ../../include -I ../../hdl\n",
      "SIM_ARGS=-lxt2 \n",
      "\n",
      "include $(COCOTB)/makefiles/Makefile.inc\n",
      "include $(COCOTB)/makefiles/Makefile.sim"
     ],
     "language": "python",
     "metadata": {},
     "outputs": [
      {
       "output_type": "stream",
       "stream": "stdout",
       "text": [
        "Overwriting ../testbench/cipher_block/Makefile\n"
       ]
      }
     ],
     "prompt_number": 5
    },
    {
     "cell_type": "code",
     "collapsed": false,
     "input": [
      "#!pushd ../testbench/key_block; make clean; make | ../../helper/awkscript.sh > result 2>&1; popd\n",
      "!pushd ../testbench/cipher_block; make clean; make ; popd"
     ],
     "language": "python",
     "metadata": {},
     "outputs": [
      {
       "output_type": "stream",
       "stream": "stdout",
       "text": [
        "~/2014_devel/EDA/aes/testbench/cipher_block ~/2014_devel/EDA/aes/doc\r\n"
       ]
      },
      {
       "output_type": "stream",
       "stream": "stdout",
       "text": [
        "make results.xml\r\n",
        "make[1]: Entering directory '/home/abhishek/2014_devel/EDA/aes/testbench/cipher_block'\r\n"
       ]
      },
      {
       "output_type": "stream",
       "stream": "stdout",
       "text": [
        "mkdir -p sim_build\r\n",

       ]
      },
      {
       "output_type": "stream",
       "stream": "stdout",
       "text": [
        "/home/abhishek/2014_devel/EDA/aes/testbench/cipher_block/../../hdl/cipher_block.v:101: warning: Port 3 (a_port_ADDR) of dpram expects 6 bits, got 7.\r\n",
        "/home/abhishek/2014_devel/EDA/aes/testbench/cipher_block/../../hdl/cipher_block.v:101:        : Pruning 1 high bits of the expression.\r\n",
        "/home/abhishek/2014_devel/EDA/aes/testbench/cipher_block/../../hdl/cipher_block.v:101: warning: Port 7 (b_port_ADDR) of dpram expects 6 bits, got 8.\r\n",
        "/home/abhishek/2014_devel/EDA/aes/testbench/cipher_block/../../hdl/cipher_block.v:101:        : Pruning 2 high bits of the expression.\r\n",
        "/home/abhishek/2014_devel/EDA/aes/testbench/cipher_block/../../hdl/cipher_block.v:117: warning: Port 3 (a_port_ADDR) of dpram expects 6 bits, got 7.\r\n",
        "/home/abhishek/2014_devel/EDA/aes/testbench/cipher_block/../../hdl/cipher_block.v:117:        : Pruning 1 high bits of the expression.\r\n",
        "/home/abhishek/2014_devel/EDA/aes/testbench/cipher_block/../../hdl/cipher_block.v:117: warning: Port 7 (b_port_ADDR) of dpram expects 6 bits, got 8.\r\n",
        "/home/abhishek/2014_devel/EDA/aes/testbench/cipher_block/../../hdl/cipher_block.v:117:        : Pruning 2 high bits of the expression.\r\n"
       ]
      },
      {
       "output_type": "stream",
       "stream": "stdout",
       "text": [
        "mkdir -p /home/abhishek/2014_devel/EDA/cocotb/build/obj/x86_64\r\n",
        "mkdir -p /home/abhishek/2014_devel/EDA/cocotb/build/libs/x86_64\r\n",
        "make -C /home/abhishek/2014_devel/EDA/cocotb/lib/gpi_log\r\n",
        "make[2]: Entering directory '/home/abhishek/2014_devel/EDA/cocotb/lib/gpi_log'\r\n"
       ]
      },
      {
       "output_type": "stream",
       "stream": "stdout",
       "text": [
        "gcc -Werror -Wcast-qual -Wcast-align -Wwrite-strings -Waggregate-return -Wstrict-prototypes -Wall -Wno-unused-parameter -fno-common -g -DDEBUG -fpic -DFILTER -c -fpic -I/home/abhishek/2014_devel/EDA/cocotb/include -I/usr/include/python2.7  -o /home/abhishek/2014_devel/EDA/cocotb/build/obj/x86_64/gpi_logging.o gpi_logging.c\r\n"
       ]
      },
      {
       "output_type": "stream",
       "stream": "stdout",
       "text": [
        "gcc -Werror -Wcast-qual -Wcast-align -Wwrite-strings -Waggregate-return -Wstrict-prototypes -Wall -Wno-unused-parameter -fno-common -g -DDEBUG -fpic -DFILTER -shared -Xlinker -export-dynamic -L/usr/lib -o /home/abhishek/2014_devel/EDA/cocotb/build/libs/x86_64/libgpilog.so /home/abhishek/2014_devel/EDA/cocotb/build/obj/x86_64/gpi_logging.o -lpthread -ldl -lutil -lm -lpython2.7 \r\n"
       ]
      },
      {
       "output_type": "stream",
       "stream": "stdout",
       "text": [
        "make[2]: Leaving directory '/home/abhishek/2014_devel/EDA/cocotb/lib/gpi_log'\r\n",
        "make -C /home/abhishek/2014_devel/EDA/cocotb/lib/embed\r\n",
        "make[2]: Entering directory '/home/abhishek/2014_devel/EDA/cocotb/lib/embed'\r\n"
       ]
      },
      {
       "output_type": "stream",
       "stream": "stdout",
       "text": [
        "gcc -Werror -Wcast-qual -Wcast-align -Wwrite-strings -Waggregate-return -Wstrict-prototypes -Wall -Wno-unused-parameter -fno-common -g -DDEBUG -fpic -DPYTHON_SO_LIB=libpython2.7.so -c -fpic -I/home/abhishek/2014_devel/EDA/cocotb/include -I/usr/include/python2.7  -o /home/abhishek/2014_devel/EDA/cocotb/build/obj/x86_64/gpi_embed.o gpi_embed.c\r\n"

       ]
      },
      {
       "output_type": "stream",
       "stream": "stdout",
       "text": [
        "gcc -Werror -Wcast-qual -Wcast-align -Wwrite-strings -Waggregate-return -Wstrict-prototypes -Wall -Wno-unused-parameter -fno-common -g -DDEBUG -fpic -DPYTHON_SO_LIB=libpython2.7.so -shared -Xlinker -export-dynamic -L/usr/lib -o /home/abhishek/2014_devel/EDA/cocotb/build/libs/x86_64/libcocotb.so /home/abhishek/2014_devel/EDA/cocotb/build/obj/x86_64/gpi_embed.o -lpthread -ldl -lutil -lm -lpython2.7 -L/home/abhishek/2014_devel/EDA/cocotb/build/libs/x86_64\r\n"
       ]
      },
      {
       "output_type": "stream",
       "stream": "stdout",
       "text": [
        "make[2]: Leaving directory '/home/abhishek/2014_devel/EDA/cocotb/lib/embed'\r\n"
       ]
      },
      {
       "output_type": "stream",
       "stream": "stdout",
       "text": [
        "make -C /home/abhishek/2014_devel/EDA/cocotb/lib/gpi_impl EXTRA_LIBS= EXTRA_LIBDIRS=\r\n",
        "make[2]: Entering directory '/home/abhishek/2014_devel/EDA/cocotb/lib/gpi_impl'\r\n"
       ]
      },
      {
       "output_type": "stream",
       "stream": "stdout",
       "text": [
        "gcc -Werror -Wcast-qual -Wcast-align -Wwrite-strings -Waggregate-return -Wstrict-prototypes -Wall -Wno-unused-parameter -fno-common -g -DDEBUG -fpic -DVPI_CHECKING -c -fpic -I/home/abhishek/2014_devel/EDA/cocotb/include -I/usr/include/python2.7  -o /home/abhishek/2014_devel/EDA/cocotb/build/obj/x86_64/gpi_common.o gpi_common.c\r\n"
       ]
      },
      {
       "output_type": "stream",
       "stream": "stdout",
       "text": [

        "gcc -Werror -Wcast-qual -Wcast-align -Wwrite-strings -Waggregate-return -Wstrict-prototypes -Wall -Wno-unused-parameter -fno-common -g -DDEBUG -fpic -DVPI_CHECKING -c -fpic -I/home/abhishek/2014_devel/EDA/cocotb/include -I/usr/include/python2.7  -o /home/abhishek/2014_devel/EDA/cocotb/build/obj/x86_64/gpi_vpi.o gpi_vpi.c\r\n"

       ]
      },
      {
       "output_type": "stream",
       "stream": "stdout",
       "text": [
        "gcc -Werror -Wcast-qual -Wcast-align -Wwrite-strings -Waggregate-return -Wstrict-prototypes -Wall -Wno-unused-parameter -fno-common -g -DDEBUG -fpic -DVPI_CHECKING -c -fpic -I/home/abhishek/2014_devel/EDA/cocotb/include -I/usr/include/python2.7  -o /home/abhishek/2014_devel/EDA/cocotb/build/obj/x86_64/gpi_vhpi.o gpi_vhpi.c\r\n"
       ]
      },
      {
       "output_type": "stream",
       "stream": "stdout",
       "text": [

        "gcc -Werror -Wcast-qual -Wcast-align -Wwrite-strings -Waggregate-return -Wstrict-prototypes -Wall -Wno-unused-parameter -fno-common -g -DDEBUG -fpic -DVPI_CHECKING -shared -Xlinker -export-dynamic -L/usr/lib -o /home/abhishek/2014_devel/EDA/cocotb/build/libs/x86_64/libgpi.so /home/abhishek/2014_devel/EDA/cocotb/build/obj/x86_64/gpi_common.o /home/abhishek/2014_devel/EDA/cocotb/build/obj/x86_64/gpi_vpi.o /home/abhishek/2014_devel/EDA/cocotb/build/obj/x86_64/gpi_vhpi.o -lgpilog -lcocotb  -L/home/abhishek/2014_devel/EDA/cocotb/build/libs/x86_64 \r\n"
       ]
      },
      {
       "output_type": "stream",
       "stream": "stdout",
       "text": [
        "ln -sf libgpi.so /home/abhishek/2014_devel/EDA/cocotb/build/libs/x86_64/gpivpi.vpl\r\n",
        "ln -sf libgpi.so /home/abhishek/2014_devel/EDA/cocotb/build/libs/x86_64/cocotb.vpi\r\n",
        "make[2]: Leaving directory '/home/abhishek/2014_devel/EDA/cocotb/lib/gpi_impl'\r\n",
        "make -C /home/abhishek/2014_devel/EDA/cocotb/lib/simulator\r\n",
        "make[2]: Entering directory '/home/abhishek/2014_devel/EDA/cocotb/lib/simulator'\r\n"
       ]
      },
      {
       "output_type": "stream",
       "stream": "stdout",
       "text": [
        "gcc -Werror -Wcast-qual -Wcast-align -Wwrite-strings -Waggregate-return -Wstrict-prototypes -Wall -Wno-unused-parameter -fno-common -g -DDEBUG -fpic  -c -fpic -I/home/abhishek/2014_devel/EDA/cocotb/include -I/usr/include/python2.7  -o /home/abhishek/2014_devel/EDA/cocotb/build/obj/x86_64/simulatormodule.o simulatormodule.c\r\n"
       ]
      },
      {
       "output_type": "stream",
       "stream": "stdout",
       "text": [
        "gcc -Werror -Wcast-qual -Wcast-align -Wwrite-strings -Waggregate-return -Wstrict-prototypes -Wall -Wno-unused-parameter -fno-common -g -DDEBUG -fpic  -shared -Xlinker -export-dynamic -L/usr/lib -o /home/abhishek/2014_devel/EDA/cocotb/build/libs/x86_64/libsim.so /home/abhishek/2014_devel/EDA/cocotb/build/obj/x86_64/simulatormodule.o -lgpi -lpthread -ldl -lutil -lm -lpython2.7 -L/home/abhishek/2014_devel/EDA/cocotb/build/libs/x86_64\r\n"
       ]
      },
      {
       "output_type": "stream",
       "stream": "stdout",
       "text": [
        "ln -sf libsim.so /home/abhishek/2014_devel/EDA/cocotb/build/libs/x86_64/simulator.so\r\n",
        "make[2]: Leaving directory '/home/abhishek/2014_devel/EDA/cocotb/lib/simulator'\r\n",
        "PYTHONPATH=/home/abhishek/2014_devel/EDA/cocotb/build/libs/x86_64:/home/abhishek/2014_devel/EDA/cocotb:/home/abhishek/2014_devel/EDA/aes/testbench/cipher_block: LD_LIBRARY_PATH=/home/abhishek/2014_devel/EDA/cocotb/build/libs/x86_64: MODULE=test_cipher_block \\\r\n",

        "        TESTCASE= TOPLEVEL=cipher_block \\\r\n",
        "        vvp -M /home/abhishek/2014_devel/EDA/cocotb/build/libs/x86_64 -m gpivpi sim_build/sim.vvp -lxt2  -I ../../include -I ../../hdl \r\n"
       ]
      },
      {
       "output_type": "stream",
       "stream": "stdout",
       "text": [
        "     0.00ns \u001b[34mINFO    \u001b[39m cocotb.gpi                                  gpi_embed.c:205  in embed_sim_init                  \u001b[34mRunning on Icarus Verilog version 0.10.0 (devel)\u001b[39m\r\n",
        "     0.00ns \u001b[34mINFO    \u001b[39m cocotb.gpi                                  gpi_embed.c:206  in embed_sim_init                  \u001b[34mPython interpreter initialised and cocotb loaded!\u001b[39m\r\n",

        "     0.00ns \u001b[34mINFO    \u001b[39m cocotb.gpi                                  __init__.py:101  in _initialise_testbench           \u001b[34mSeeding Python random module with 1415848678\u001b[39m\r\n",
        "     0.00ns \u001b[34mINFO    \u001b[39m cocotb.gpi                                  __init__.py:115  in _initialise_testbench           \u001b[34mRunning tests with Cocotb v0.5 from /home/abhishek/2014_devel/EDA/cocotb\u001b[39m\r\n"

       ]
      },
      {
       "output_type": "stream",
       "stream": "stdout",
       "text": [
        "     0.00ns \u001b[34mINFO    \u001b[39m cocotb.regression                         regression.py:123  in initialise                      \u001b[34mFound test test_cipher_block.test_cipher_block\u001b[39m\r\n",
        "     0.00ns \u001b[34mINFO    \u001b[39m cocotb.regression                         regression.py:194  in execute                         \u001b[34m\u001b[44m\u001b[30mRunning test 1/1:\u001b[39m\u001b[49m test_cipher_block\u001b[39m\r\n",

        "     0.00ns \u001b[34mINFO    \u001b[39m ...test_cipher_block.0x7fcf1243e410       decorators.py:176  in send                            \u001b[34mStarting test: \"test_cipher_block\"\r\n",
        "                                                                                                                               Description: None\u001b[39m\r\n",
        "     0.00ns \u001b[34mINFO    \u001b[39m cocotb.cipher_block                test_cipher_block.py:137  in test_cipher_block               \u001b[34mFound 128 entry RAM by 8 bits wide\u001b[39m\r\n"

       ]
      },
      {
       "output_type": "stream",
       "stream": "stdout",
       "text": [
        "LXT2 info: dumpfile dump.lxt opened for output.\r\n"
       ]
      },
      {
       "output_type": "stream",
       "stream": "stdout",
       "text": [
        "BUSY_GEN_KEY\r\n"
       ]
      },
      {
       "output_type": "stream",
       "stream": "stdout",
       "text": [
        "   320.56ns \u001b[34mINFO    \u001b[39m cocotb.cipher_block                test_cipher_block.py:329  in test_cipher_block               \u001b[34m5\u001b[39m\r\n"
       ]
      },
      {
       "output_type": "stream",
       "stream": "stdout",
       "text": [

        "______________________________\r\n",
        "00112233445566778899aabbccddeeff\r\n",
        "00112233445566778899aabbccddeeff\r\n",
        "00112233445566778899aabbccddeeff\r\n",
        "00112233445566778899aabbccddeeff\r\n",
        "00112233445566778899aabbccddeeff\r\n",
        "00112233445566778899aabbccddeeff\r\n",
        "00112233445566778899aabbccddeeff\r\n",
        "00112233445566778899aabbccddeeff\r\n",
        "______________________________\r\n",
        "8652d02a653cab041985c08568abfed4\r\n",
        "b78f8dfdab6bd2fa3552f1e654f062d8\r\n",
        "dabfbde3a10ea5d68c44a9caf60f3419\r\n",
        "0729067f19c1d90d8e623c8b266ca1b7\r\n",
        "a816fb34838ca686bb9522d57e430d3b\r\n",
        "ab357842db11808fe029037296be7a65\r\n",
        "75395d19192eb148ec7aa0837bd2ac11\r\n",
        "bc963af2809cd9982602d0107e200147\r\n",
        "______________________________\r\n",
        "987c28db3ae596399efa0dca345a3804\r\n",
        "9f3ceb9b0105567632a095d67018db92\r\n",
        "69d3f1e1b1425818d7c6e66084fde790\r\n",
        "04e7e509f0d94fba8907fffe36c751ea\r\n",
        "639eaa13e3c2b32e1a658835af67656c\r\n",
        "35a6dd40958ebb5e814b07be06c8d158\r\n",
        "7561874b3c42628aeb816e65bd7fd971\r\n",
        "7687c3eded02d6030cb7de0abd9e48c2\r\n",
        "______________________________\r\n",
        "dc5f535f73f1cb7498af0f1637543b26\r\n",
        "83d1342afe34028ee4ba4e25213f394b\r\n",

        "00000000000000000000000000000000\r\n",
        "00000000000000000000000000000000\r\n",
        "00000000000000000000000000000000\r\n",
        "00000000000000000000000000000000\r\n",
        "00000000000000000000000000000000\r\n",
        "00000000000000000000000000000000\r\n",
        "00000000000000000000000000000000\r\n",
        "00000000000000000000000000000000\r\n",
        "______________________________\r\n",
        "[0xfe 0x32 0xf1 0xe4 0xdf 0x92 0xaf 0x8c 0x48 0x42 0x4b 0x67 0x38 0xc0 0xcd\r\n",
        " 0x2c] [0x0 0x0 0x0 0x0 0x0 0x0 0x0 0x0 0x0 0x0 0x0 0x0 0x0 0x0 0x0 0x0]\r\n",
        "match failed\r\n",
        "00000000000000000000000000000000\r\n",
        "00000000000000000000000000000000\r\n",
        "00000000000000000000000000000000\r\n",
        "00000000000000000000000000000000\r\n",
        "00000000000000000000000000000000\r\n",
        "00000000000000000000000000000000\r\n",
        "00000000000000000000000000000000\r\n",
        "00000000000000000000000000000000\r\n",
        "______________________________\r\n",
        "[0x8e 0xa2 0xb7 0xca 0x51 0x67 0x45 0xbf 0xea 0xfc 0x49 0x90 0x4b 0x49 0x60\r\n",
        " 0x89] [0x0 0x0 0x0 0x0 0x0 0x0 0x0 0x0 0x0 0x0 0x0 0x0 0x0 0x0 0x0 0x0]\r\n",
        "match failed\r\n",
        "00000000000000000000000000000000\r\n",
        "00000000000000000000000000000000\r\n",
        "00000000000000000000000000000000\r\n",
        "00000000000000000000000000000000\r\n",
        "00000000000000000000000000000000\r\n",
        "00000000000000000000000000000000\r\n",
        "00000000000000000000000000000000\r\n",
        "00000000000000000000000000000000\r\n",
        "______________________________\r\n",
        "[0x64 0x6 0x4a 0xb2 0x92 0xa6 0x35 0x91 0xed 0x8 0xe8 0x86 0x21 0xeb 0x1a\r\n",
        " 0x7a] [0x0 0x0 0x0 0x0 0x0 0x0 0x0 0x0 0x0 0x0 0x0 0x0 0x0 0x0 0x0 0x0]\r\n",
        "match failed\r\n",
        "00000000000000000000000000000000\r\n",
        "00000000000000000000000000000000\r\n",
        "00000000000000000000000000000000\r\n",
        "00000000000000000000000000000000\r\n",
        "00000000000000000000000000000000\r\n",
        "00000000000000000000000000000000\r\n",
        "00000000000000000000000000000000\r\n",
        "00000000000000000000000000000000\r\n",
        "______________________________\r\n",
        "[0x5b 0xe9 0xb6 0xc9 0x2e 0x77 0xf9 0xae 0xbd 0x3b 0x6a 0xbd 0x31 0x66 0x24\r\n",
        " 0xce] [0x0 0x0 0x0 0x0 0x0 0x0 0x0 0x0 0x0 0x0 0x0 0x0 0x0 0x0 0x0 0x0]\r\n",
        "match failed\r\n",
        "00000000000000000000000000000000\r\n",
        "00000000000000000000000000000000\r\n",
        "00000000000000000000000000000000\r\n",
        "00000000000000000000000000000000\r\n",
        "00000000000000000000000000000000\r\n",
        "00000000000000000000000000000000\r\n",
        "00000000000000000000000000000000\r\n",
        "00000000000000000000000000000000\r\n",
        "______________________________\r\n"
       ]
      },
      {
       "output_type": "stream",
       "stream": "stdout",
       "text": [
        "[0x40 0x71 0xf0 0xc9 0x3 0xc5 0xfd 0xc6 0x61 0x7e 0x36 0x5b 0x92 0x63 0x38\r\n",
        " 0x27] [0x0 0x0 0x0 0x0 0x0 0x0 0x0 0x0 0x0 0x0 0x0 0x0 0x0 0x0 0x0 0x0]\r\n",
        "match failed\r\n",
        "   321.84ns \u001b[34mINFO    \u001b[39m cocotb.cipher_block                test_cipher_block.py:396  in test_cipher_block               \u001b[34mRAM contents OK\u001b[39m\r\n",
        "   321.84ns \u001b[34mINFO    \u001b[39m cocotb.regression                         regression.py:156  in handle_result                   \u001b[34mTest Passed: test_cipher_block\u001b[39m\r\n",
        "   321.84ns \u001b[34mINFO    \u001b[39m cocotb.regression                         regression.py:132  in tear_down                       \u001b[34mPassed 1 tests (0 skipped)\u001b[39m\r\n",
        "   321.84ns \u001b[34mINFO    \u001b[39m cocotb.regression                         regression.py:133  in tear_down                       \u001b[34mShutting down...\u001b[39m\r\n"
       ]
      },
      {
       "output_type": "stream",
       "stream": "stdout",
       "text": [

        "make[1]: Leaving directory '/home/abhishek/2014_devel/EDA/aes/testbench/cipher_block'\r\n",
        "~/2014_devel/EDA/aes/doc\r\n"
       ]
      }
     ],
     "prompt_number": 9

    },
    {
     "cell_type": "code",
     "collapsed": false,
     "input": [
      "from Crypto.Cipher import AES"
     ],
     "language": "python",
     "metadata": {},
     "outputs": [],
     "prompt_number": 210
    },
    {
     "cell_type": "code",
     "collapsed": false,
     "input": [
      "import binascii\n",
      "import numpy as np\n",
      "from Crypto.Cipher import AES\n",
      "\n",
      "def aes_check(key, data):\n",
      "    key = key[0:32].tostring() #[::-1]\n",
      "    data = data[0:16].tostring() #[::-1]\n",
      "    cipher = AES.AESCipher(key, AES.MODE_ECB)\n",
      "    ciphertext = cipher.encrypt(data)\n",
      "    return binascii.hexlify(bytearray(ciphertext)).decode('utf-8')\n",
      "key = np.array([0x00, 0x01, 0x02, 0x03,\n",
      "                0x04, 0x05, 0x06, 0x07,\n",
      "                0x08, 0x09, 0x0a, 0x0b,\n",
      "                0x0c, 0x0d, 0x0e, 0x0f,\n",
      "                0x10, 0x11, 0x12, 0x13,\n",
      "                0x14, 0x15, 0x16, 0x17,\n",
      "                0x18, 0x19, 0x1a, 0x1b,\n",
      "                0x1c, 0x1d, 0x1e, 0x1f], dtype=np.uint8)\n",
      "data = np.array([0x00, 0x11, 0x22, 0x33,\n",
      "                 0x44, 0x55, 0x66, 0x77,\n",
      "                 0x88, 0x99, 0xaa, 0xbb,\n",
      "                 0xcc, 0xdd, 0xee, 0xff], dtype=np.uint8)\n",
      "\n",
      "\n",
      "print aes_check(key, data)"
     ],
     "language": "python",
     "metadata": {},
     "outputs": [
      {
       "output_type": "stream",
       "stream": "stdout",
       "text": [
        "8ea2b7ca516745bfeafc49904b496089\n"
       ]
      }
     ],
     "prompt_number": 26
    },
    {
     "cell_type": "code",
     "collapsed": false,
     "input": [],
     "language": "python",
     "metadata": {},
     "outputs": [],
     "prompt_number": 7
    },
    {
     "cell_type": "code",
     "collapsed": false,
     "input": [],
     "language": "python",
     "metadata": {},
     "outputs": []
    }
   ],
   "metadata": {}
  }
 ]
}