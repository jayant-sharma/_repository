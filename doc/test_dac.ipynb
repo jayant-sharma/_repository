{
 "metadata": {
  "name": "",
  "signature": "sha256:3f438bb17b24dd46d27ef78c73a17ced54c46c4c1cdccba2febaf8c4cface451"
 },
 "nbformat": 3,
 "nbformat_minor": 0,
 "worksheets": [
  {
   "cells": [
    {
     "cell_type": "code",
     "collapsed": false,
     "input": [
      "!mkdir -p ../testbench/dac"
     ],
     "language": "python",
     "metadata": {},
     "outputs": [],
     "prompt_number": 3
    },
    {
     "cell_type": "code",
     "collapsed": false,
     "input": [
      "%%writefile ../testbench/dac/test_dac.py\n",
      "\n",
      "import random\n",
      "import cocotb\n",
      "from cocotb.clock import Clock\n",
      "from cocotb.triggers import Timer, RisingEdge, ReadOnly\n",
      "from cocotb.result import TestFailure, ReturnValue\n",
      "\n",
      "@cocotb.coroutine\n",
      "def rst_dac(dut):\n",
      "    \"\"\"This coroutine performs a reset\"\"\"\n",
      "    yield RisingEdge(dut.clk)                  # Synchronise to the read clock\n",
      "    dut.rst = 1\n",
      "    yield RisingEdge(dut.clk)                  # Synchronise to the read clock\n",
      "    dut.rst = 0\n",
      "    yield RisingEdge(dut.clk)                  # Synchronise to the read clock\n",
      "    \n",
      "@cocotb.coroutine\n",
      "def conv_dac(dut, value):\n",
      "    \"\"\"This coroutine performs a DAC conversion\"\"\"\n",
      "    yield RisingEdge(dut.clk)                  # Synchronise to the read clock\n",
      "    dut.rst = 0\n",
      "    dut.dac_in = value                        # Drive the values\n",
      "    yield RisingEdge(dut.clk)                  # Wait 1 clock cycle\n",
      "    yield ReadOnly()                           # Wait until all events have executed for this timestep\n",
      "    raise ReturnValue(int(dut.dac_out.value))  # Read back the value\n",
      "\n",
      "@cocotb.test()\n",
      "def test_dac(dut):\n",
      "    \"\"\"Try converting digital data\"\"\"\n",
      "    SIG = {}\n",
      "    # Read the parameters back from the DUT to set up our model\n",
      "    resolution = dut.RES.value.integer\n",
      "    dut.log.info(\"Found %d bit resolution DAC\" % (resolution))\n",
      "    # Set up independent read/write clocks\n",
      "    cocotb.fork(Clock(dut.clk, 10).start())\n",
      "    \n",
      "    yield rst_dac(dut)\n",
      "    \n",
      "    dut.log.info(\"Writing in random values\")\n",
      "    for i in xrange(50):\n",
      "        SIG[i] = int(random.getrandbits(resolution))\n",
      "        analog = yield conv_dac(dut, SIG[i])\n",
      "        dut.log.info(\"%d   %d\" % (analog, SIG[i]))\n",
      "        \n",
      "    dut.log.info(\"Conversion done\")"
     ],
     "language": "python",
     "metadata": {},
     "outputs": [
      {
       "output_type": "stream",
       "stream": "stdout",
       "text": [
        "Overwriting ../testbench/dac/test_dac.py\n"
       ]
      }
     ],
     "prompt_number": 43
    },
    {
     "cell_type": "code",
     "collapsed": false,
     "input": [
      "%%writefile ../testbench/dac/Makefile\n",
      "\n",
      "TOPLEVEL = dac\n",
      "PWD=$(shell pwd)\n",
      "COCOTB=/home/jayant/devel/cocotb\n",
      "SRC=$(PWD)/../../hdl\n",
      "\n",
      "VERILOG_SOURCES =  $(SRC)/dac.v $(SRC)/tb.v\n",
      "MODULE=test_dac #cocotb,test_discovery,test_external,test_regression\n",
      "EXTRA_ARGS=-I ../../include -I ../../hdl\n",
      "SIM_ARGS=-lxt2\n",
      "      \n",
      "include $(COCOTB)/makefiles/Makefile.inc\n",
      "include $(COCOTB)/makefiles/Makefile.sim"
     ],
     "language": "python",
     "metadata": {},
     "outputs": [
      {
       "output_type": "stream",
       "stream": "stdout",
       "text": [
        "Overwriting ../testbench/dac/Makefile\n"
       ]
      }
     ],
     "prompt_number": 44
    },
    {
     "cell_type": "code",
     "collapsed": false,
     "input": [
      "!pushd ../testbench/dac; make; popd"
     ],
     "language": "python",
     "metadata": {},
     "outputs": [
      {
       "output_type": "stream",
       "stream": "stdout",
       "text": [
        "~/devel/git_reps/dac/testbench/dac ~/devel/git_reps/dac/doc\r\n"
       ]
      },
      {
       "output_type": "stream",
       "stream": "stdout",
       "text": [
        "make results.xml\r\n"
       ]
      },
      {
       "output_type": "stream",
       "stream": "stdout",
       "text": [
        "make[1]: Entering directory `/home/jayant/devel/git_reps/dac/testbench/dac'\r\n",
        "PYTHONPATH=/home/jayant/devel/cocotb/build/libs/x86_64:/home/jayant/devel/cocotb:/home/jayant/devel/git_reps/dac/testbench/dac: LD_LIBRARY_PATH=/home/jayant/devel/cocotb/build/libs/x86_64: MODULE=test_dac  \\\r\n",
        "        TESTCASE= TOPLEVEL=dac \\\r\n",
        "        vvp -M /home/jayant/devel/cocotb/build/libs/x86_64 -m gpivpi sim_build/sim.vvp -lxt2 -I ../../include -I ../../hdl \r\n"
       ]
      },
      {
       "output_type": "stream",
       "stream": "stdout",
       "text": [
        "     0.00ns \u001b[34mINFO    \u001b[39m cocotb.gpi                                  gpi_embed.c:205  in embed_sim_init                  \u001b[34mRunning on Icarus Verilog version 0.9.6 \u001b[39m\r\n",
        "     0.00ns \u001b[34mINFO    \u001b[39m cocotb.gpi                                  gpi_embed.c:206  in embed_sim_init                  \u001b[34mPython interpreter initialised and cocotb loaded!\u001b[39m\r\n",
        "     0.00ns \u001b[34mINFO    \u001b[39m cocotb.gpi                                  __init__.py:101  in _initialise_testbench           \u001b[34mSeeding Python random module with 1417641376\u001b[39m\r\n",
        "     0.00ns \u001b[34mINFO    \u001b[39m cocotb.gpi                                  __init__.py:115  in _initialise_testbench           \u001b[34mRunning tests with Cocotb v0.5a from /home/jayant/devel/cocotb\u001b[39m\r\n",
        "     0.00ns \u001b[34mINFO    \u001b[39m cocotb.regression                         regression.py:123  in initialise                      \u001b[34mFound test test_dac.test_dac\u001b[39m\r\n",
        "     0.00ns \u001b[34mINFO    \u001b[39m cocotb.regression                         regression.py:194  in execute                         \u001b[34m\u001b[44m\u001b[30mRunning test 1/1:\u001b[39m\u001b[49m test_dac\u001b[39m\r\n",
        "     0.00ns \u001b[34mINFO    \u001b[39m ..coroutine.test_dac.0x7f734d32f050       decorators.py:176  in send                            \u001b[34mStarting test: \"test_dac\"\r\n",
        "                                                                                                                               Description: Try converting digital data\u001b[39m\r\n",
        "     0.00ns \u001b[34mINFO    \u001b[39m cocotb.dac                                  test_dac.py:33   in test_dac                        \u001b[34mFound 8 bit resolution DAC\u001b[39m\r\n",
        "LXT2 info: dumpfile dump.lxt opened for output.\r\n",
        "     0.02ns \u001b[34mINFO    \u001b[39m cocotb.dac                                  test_dac.py:39   in test_dac                        \u001b[34mWriting in random values\u001b[39m\r\n",
        "     0.04ns \u001b[34mINFO    \u001b[39m cocotb.dac                                  test_dac.py:43   in test_dac                        \u001b[34m0   221\u001b[39m\r\n",
        "     0.06ns \u001b[34mINFO    \u001b[39m cocotb.dac                                  test_dac.py:43   in test_dac                        \u001b[34m0   208\u001b[39m\r\n",
        "     0.08ns \u001b[34mINFO    \u001b[39m cocotb.dac                                  test_dac.py:43   in test_dac                        \u001b[34m0   46\u001b[39m\r\n",
        "     0.10ns \u001b[34mINFO    \u001b[39m cocotb.dac                                  test_dac.py:43   in test_dac                        \u001b[34m0   152\u001b[39m\r\n",
        "     0.12ns \u001b[34mINFO    \u001b[39m cocotb.dac                                  test_dac.py:43   in test_dac                        \u001b[34m0   156\u001b[39m\r\n",
        "     0.14ns \u001b[34mINFO    \u001b[39m cocotb.dac                                  test_dac.py:43   in test_dac                        \u001b[34m0   21\u001b[39m\r\n",
        "     0.16ns \u001b[34mINFO    \u001b[39m cocotb.dac                                  test_dac.py:43   in test_dac                        \u001b[34m0   54\u001b[39m\r\n",
        "     0.18ns \u001b[34mINFO    \u001b[39m cocotb.dac                                  test_dac.py:43   in test_dac                        \u001b[34m0   68\u001b[39m\r\n",
        "     0.20ns \u001b[34mINFO    \u001b[39m cocotb.dac                                  test_dac.py:43   in test_dac                        \u001b[34m0   247\u001b[39m\r\n",
        "     0.22ns \u001b[34mINFO    \u001b[39m cocotb.dac                                  test_dac.py:43   in test_dac                        \u001b[34m0   40\u001b[39m\r\n",
        "     0.24ns \u001b[34mINFO    \u001b[39m cocotb.dac                                  test_dac.py:43   in test_dac                        \u001b[34m0   132\u001b[39m\r\n",
        "     0.26ns \u001b[34mINFO    \u001b[39m cocotb.dac                                  test_dac.py:43   in test_dac                        \u001b[34m0   147\u001b[39m\r\n",
        "     0.28ns \u001b[34mINFO    \u001b[39m cocotb.dac                                  test_dac.py:43   in test_dac                        \u001b[34m0   100\u001b[39m\r\n",
        "     0.30ns \u001b[34mINFO    \u001b[39m cocotb.dac                                  test_dac.py:43   in test_dac                        \u001b[34m0   126\u001b[39m\r\n",
        "     0.32ns \u001b[34mINFO    \u001b[39m cocotb.dac                                  test_dac.py:43   in test_dac                        \u001b[34m0   91\u001b[39m\r\n",
        "     0.34ns \u001b[34mINFO    \u001b[39m cocotb.dac                                  test_dac.py:43   in test_dac                        \u001b[34m0   151\u001b[39m\r\n",
        "     0.36ns \u001b[34mINFO    \u001b[39m cocotb.dac                                  test_dac.py:43   in test_dac                        \u001b[34m0   13\u001b[39m\r\n",
        "     0.38ns \u001b[34mINFO    \u001b[39m cocotb.dac                                  test_dac.py:43   in test_dac                        \u001b[34m0   83\u001b[39m\r\n"
       ]
      },
      {
       "output_type": "stream",
       "stream": "stdout",
       "text": [
        "     0.40ns \u001b[34mINFO    \u001b[39m cocotb.dac                                  test_dac.py:43   in test_dac                        \u001b[34m0   49\u001b[39m\r\n",
        "     0.42ns \u001b[34mINFO    \u001b[39m cocotb.dac                                  test_dac.py:43   in test_dac                        \u001b[34m0   215\u001b[39m\r\n",
        "     0.44ns \u001b[34mINFO    \u001b[39m cocotb.dac                                  test_dac.py:43   in test_dac                        \u001b[34m0   58\u001b[39m\r\n",
        "     0.46ns \u001b[34mINFO    \u001b[39m cocotb.dac                                  test_dac.py:43   in test_dac                        \u001b[34m0   0\u001b[39m\r\n",
        "     0.48ns \u001b[34mINFO    \u001b[39m cocotb.dac                                  test_dac.py:43   in test_dac                        \u001b[34m0   26\u001b[39m\r\n",
        "     0.50ns \u001b[34mINFO    \u001b[39m cocotb.dac                                  test_dac.py:43   in test_dac                        \u001b[34m0   243\u001b[39m\r\n",
        "     0.52ns \u001b[34mINFO    \u001b[39m cocotb.dac                                  test_dac.py:43   in test_dac                        \u001b[34m0   59\u001b[39m\r\n",
        "     0.54ns \u001b[34mINFO    \u001b[39m cocotb.dac                                  test_dac.py:43   in test_dac                        \u001b[34m0   105\u001b[39m\r\n",
        "     0.56ns \u001b[34mINFO    \u001b[39m cocotb.dac                                  test_dac.py:43   in test_dac                        \u001b[34m0   153\u001b[39m\r\n",
        "     0.58ns \u001b[34mINFO    \u001b[39m cocotb.dac                                  test_dac.py:43   in test_dac                        \u001b[34m0   22\u001b[39m\r\n",
        "     0.60ns \u001b[34mINFO    \u001b[39m cocotb.dac                                  test_dac.py:43   in test_dac                        \u001b[34m0   223\u001b[39m\r\n",
        "     0.62ns \u001b[34mINFO    \u001b[39m cocotb.dac                                  test_dac.py:43   in test_dac                        \u001b[34m0   77\u001b[39m\r\n",
        "     0.64ns \u001b[34mINFO    \u001b[39m cocotb.dac                                  test_dac.py:43   in test_dac                        \u001b[34m0   187\u001b[39m\r\n",
        "     0.66ns \u001b[34mINFO    \u001b[39m cocotb.dac                                  test_dac.py:43   in test_dac                        \u001b[34m0   5\u001b[39m\r\n",
        "     0.68ns \u001b[34mINFO    \u001b[39m cocotb.dac                                  test_dac.py:43   in test_dac                        \u001b[34m0   104\u001b[39m\r\n",
        "     0.70ns \u001b[34mINFO    \u001b[39m cocotb.dac                                  test_dac.py:43   in test_dac                        \u001b[34m0   209\u001b[39m\r\n",
        "     0.72ns \u001b[34mINFO    \u001b[39m cocotb.dac                                  test_dac.py:43   in test_dac                        \u001b[34m0   32\u001b[39m\r\n",
        "     0.74ns \u001b[34mINFO    \u001b[39m cocotb.dac                                  test_dac.py:43   in test_dac                        \u001b[34m0   235\u001b[39m\r\n",
        "     0.76ns \u001b[34mINFO    \u001b[39m cocotb.dac                                  test_dac.py:43   in test_dac                        \u001b[34m0   245\u001b[39m\r\n",
        "     0.78ns \u001b[34mINFO    \u001b[39m cocotb.dac                                  test_dac.py:43   in test_dac                        \u001b[34m0   87\u001b[39m\r\n",
        "     0.80ns \u001b[34mINFO    \u001b[39m cocotb.dac                                  test_dac.py:43   in test_dac                        \u001b[34m0   66\u001b[39m\r\n",
        "     0.82ns \u001b[34mINFO    \u001b[39m cocotb.dac                                  test_dac.py:43   in test_dac                        \u001b[34m0   224\u001b[39m\r\n",
        "     0.84ns \u001b[34mINFO    \u001b[39m cocotb.dac                                  test_dac.py:43   in test_dac                        \u001b[34m0   61\u001b[39m\r\n",
        "     0.86ns \u001b[34mINFO    \u001b[39m cocotb.dac                                  test_dac.py:43   in test_dac                        \u001b[34m0   79\u001b[39m\r\n",
        "     0.88ns \u001b[34mINFO    \u001b[39m cocotb.dac                                  test_dac.py:43   in test_dac                        \u001b[34m0   117\u001b[39m\r\n",
        "     0.90ns \u001b[34mINFO    \u001b[39m cocotb.dac                                  test_dac.py:43   in test_dac                        \u001b[34m0   186\u001b[39m\r\n",
        "     0.92ns \u001b[34mINFO    \u001b[39m cocotb.dac                                  test_dac.py:43   in test_dac                        \u001b[34m0   231\u001b[39m\r\n",
        "     0.94ns \u001b[34mINFO    \u001b[39m cocotb.dac                                  test_dac.py:43   in test_dac                        \u001b[34m0   231\u001b[39m\r\n",
        "     0.96ns \u001b[34mINFO    \u001b[39m cocotb.dac                                  test_dac.py:43   in test_dac                        \u001b[34m0   124\u001b[39m\r\n",
        "     0.98ns \u001b[34mINFO    \u001b[39m cocotb.dac                                  test_dac.py:43   in test_dac                        \u001b[34m0   0\u001b[39m\r\n",
        "     1.00ns \u001b[34mINFO    \u001b[39m cocotb.dac                                  test_dac.py:43   in test_dac                        \u001b[34m0   164\u001b[39m\r\n",
        "     1.02ns \u001b[34mINFO    \u001b[39m cocotb.dac                                  test_dac.py:43   in test_dac                        \u001b[34m0   113\u001b[39m\r\n",
        "     1.02ns \u001b[34mINFO    \u001b[39m cocotb.dac                                  test_dac.py:45   in test_dac                        \u001b[34mConversion done\u001b[39m\r\n",
        "     1.02ns \u001b[34mINFO    \u001b[39m cocotb.regression                         regression.py:156  in handle_result                   \u001b[34mTest Passed: test_dac\u001b[39m\r\n",
        "     1.02ns \u001b[34mINFO    \u001b[39m cocotb.regression                         regression.py:132  in tear_down                       \u001b[34mPassed 1 tests (0 skipped)\u001b[39m\r\n",
        "     1.02ns \u001b[34mINFO    \u001b[39m cocotb.regression                         regression.py:133  in tear_down                       \u001b[34mShutting down...\u001b[39m\r\n",
        "make[1]: Leaving directory `/home/jayant/devel/git_reps/dac/testbench/dac'\r\n",
        "~/devel/git_reps/dac/doc\r\n"
       ]
      }
     ],
     "prompt_number": 45
    },
    {
     "cell_type": "code",
     "collapsed": false,
     "input": [],
     "language": "python",
     "metadata": {},
     "outputs": []
    }
   ],
   "metadata": {}
  }
 ]
}